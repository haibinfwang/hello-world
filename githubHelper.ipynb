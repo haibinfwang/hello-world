{
 "cells": [
  {
   "cell_type": "markdown",
   "metadata": {},
   "source": [
    "# Github and Related Tools\n",
    "\n",
    "Helpful tips data science infrastructure\n",
    " - github\n",
    " - jupyter"
   ]
  },
  {
   "cell_type": "markdown",
   "metadata": {},
   "source": [
    "## Git and github\n",
    "\n",
    "### workflow\n",
    "\n",
    " - Working with main branch\n",
    "   - Clone\n",
    "   - Fetch, merge, and push (at the \"root\" of local repo directory)\n",
    "     - git fetch\n",
    "     - git merge\n",
    "     - git status\n",
    "     - git add -A\n",
    "     - git commit -m \"Test fetch merge\"\n",
    "     - git status\n",
    "     - git push\n",
    "\n",
    "### Other useful\n",
    "\n",
    " - Cache credentials\n",
    "   - git config --global credential.helper cache, or\n",
    "   - git config --global credential.helper 'cache --timeout=36000'\n",
    "\n",
    "\n"
   ]
  },
  {
   "cell_type": "markdown",
   "metadata": {},
   "source": [
    "## Jupyter\n",
    "\n",
    "### Markdown\n",
    "\n",
    " - [] (https://towardsdatascience.com/write-markdown-latex-in-the-jupyter-notebook-10985edb91fd)\n"
   ]
  }
 ],
 "metadata": {
  "kernelspec": {
   "display_name": "Python 3",
   "language": "python",
   "name": "python3"
  },
  "language_info": {
   "codemirror_mode": {
    "name": "ipython",
    "version": 3
   },
   "file_extension": ".py",
   "mimetype": "text/x-python",
   "name": "python",
   "nbconvert_exporter": "python",
   "pygments_lexer": "ipython3",
   "version": "3.7.7"
  }
 },
 "nbformat": 4,
 "nbformat_minor": 4
}
